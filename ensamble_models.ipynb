{
 "cells": [
  {
   "cell_type": "code",
   "execution_count": 4,
   "metadata": {
    "id": "KNjqf9JBXWHA"
   },
   "outputs": [],
   "source": [
    "import numpy as np\n",
    "import matplotlib.pyplot as plt\n",
    "from sklearn.datasets import load_iris\n",
    "\n",
    "from sklearn.tree import DecisionTreeClassifier\n",
    "from sklearn.tree import DecisionTreeRegressor\n",
    "\n",
    "from tqdm import tqdm"
   ]
  },
  {
   "cell_type": "code",
   "execution_count": 6,
   "metadata": {
    "id": "RSRZM3H-Xujz"
   },
   "outputs": [],
   "source": [
    "iris = load_iris()\n",
    "X = iris.data\n",
    "y = iris.target"
   ]
  },
  {
   "cell_type": "code",
   "execution_count": 7,
   "metadata": {
    "colab": {
     "base_uri": "https://localhost:8080/"
    },
    "id": "dvOaNkZ5b20l",
    "outputId": "9f27991c-250a-440f-e4c0-cece9e11a7ed"
   },
   "outputs": [
    {
     "data": {
      "text/plain": [
       "((150, 4), (150,))"
      ]
     },
     "execution_count": 7,
     "metadata": {},
     "output_type": "execute_result"
    }
   ],
   "source": [
    "X.shape, y.shape"
   ]
  },
  {
   "cell_type": "code",
   "execution_count": 8,
   "metadata": {
    "id": "Ua6jSBRRXyZy"
   },
   "outputs": [],
   "source": [
    "objs = np.random.randint(0,150,size=7)"
   ]
  },
  {
   "cell_type": "code",
   "execution_count": 9,
   "metadata": {
    "colab": {
     "base_uri": "https://localhost:8080/"
    },
    "id": "zRY_VR66bWk7",
    "outputId": "499fa969-46c5-4b4c-cb6a-a0cac7c5a0d7"
   },
   "outputs": [
    {
     "name": "stdout",
     "output_type": "stream",
     "text": [
      "[[5.7 2.8 4.1 1.3]\n",
      " [5.1 3.3 1.7 0.5]\n",
      " [7.9 3.8 6.4 2. ]\n",
      " [5.5 2.4 3.7 1. ]\n",
      " [7.7 3.8 6.7 2.2]\n",
      " [5.1 2.5 3.  1.1]\n",
      " [5.1 3.8 1.6 0.2]] \n",
      "\n",
      " [1 0 2 1 2 1 0]\n"
     ]
    }
   ],
   "source": [
    "print(X[objs],'\\n\\n', y[objs].T)"
   ]
  },
  {
   "cell_type": "markdown",
   "metadata": {
    "id": "1vx8xRWMcY8H"
   },
   "source": [
    "1. Model drzewa jest nieograniczony\n",
    "2. sprawdzamy wpływ ilości danych uczących na predykcję"
   ]
  },
  {
   "cell_type": "code",
   "execution_count": 10,
   "metadata": {
    "colab": {
     "base_uri": "https://localhost:8080/",
     "height": 265
    },
    "id": "Zdr9-MN4dlg8",
    "outputId": "18be0068-3b58-424b-8909-c402e2a99eb6"
   },
   "outputs": [
    {
     "data": {
      "image/png": "[encoded data removed]",
      "text/plain": [
       "<Figure size 432x288 with 1 Axes>"
      ]
     },
     "metadata": {
      "needs_background": "light"
     },
     "output_type": "display_data"
    }
   ],
   "source": [
    "X = iris.data[:,(0,2)]\n",
    "objs = np.random.randint(0,150,size=7)\n",
    "X_1 = X[objs]\n",
    "y_1 = y[objs]\n",
    "\n",
    "plt.scatter(X_1[:,0], \n",
    "            X_1[:,1],\n",
    "            c=y_1,\n",
    "            cmap=plt.cm.Set1_r);\n",
    "\n",
    "plt.grid();\n",
    "\n",
    "xx = [7.5,3]\n",
    "plt.scatter(xx[0],\n",
    "            xx[1], \n",
    "            color='blue');"
   ]
  },
  {
   "cell_type": "code",
   "execution_count": 11,
   "metadata": {
    "colab": {
     "base_uri": "https://localhost:8080/"
    },
    "id": "V9yzh3oseq0j",
    "outputId": "caf651f3-4b50-4c73-9f58-052ce6e84e51"
   },
   "outputs": [
    {
     "data": {
      "text/plain": [
       "[1, 0, 0]"
      ]
     },
     "execution_count": 11,
     "metadata": {},
     "output_type": "execute_result"
    }
   ],
   "source": [
    "model = DecisionTreeClassifier()\n",
    "model.fit(X_1,y_1)\n",
    "\n",
    "setosa = 0\n",
    "versicolor = 0\n",
    "virginica = 0\n",
    "y_predict = model.predict([xx])\n",
    "\n",
    "if y_predict[0] == 0:\n",
    "  setosa += 1 \n",
    "elif y_predict[0] == 1:\n",
    "  versicolor += 1\n",
    "elif y_predict[0] == 2:\n",
    "  virginica +=  1\n",
    "[setosa, versicolor, virginica]\n"
   ]
  },
  {
   "cell_type": "code",
   "execution_count": null,
   "metadata": {
    "colab": {
     "base_uri": "https://localhost:8080/"
    },
    "id": "y8j1jO34fmKO",
    "outputId": "83206eed-981d-42f6-d8d5-11d0219f15ca"
   },
   "outputs": [
    {
     "name": "stderr",
     "output_type": "stream",
     "text": [
      " 93%|███████████████████████████████████████   | 93/100 [04:52<00:23,  3.29s/it]"
     ]
    }
   ],
   "source": [
    "xx = [7.5, 3]\n",
    "\n",
    "max_trn_size = 101\n",
    "simulatin_counts = 10000\n",
    "\n",
    "scores = np.zeros((max_trn_size, 3))\n",
    "\n",
    "for size in tqdm(range(1, max_trn_size)):\n",
    "  setosa = 0\n",
    "  versicolor = 0\n",
    "  virginica = 0\n",
    "  for i in range(simulatin_counts):\n",
    "    objs = np.random.randint(0,150,size=size)\n",
    "    X_1 = X[objs]\n",
    "    y_1 = y[objs]\n",
    "    model = DecisionTreeClassifier(max_depth=3)\n",
    "    model.fit(X_1,y_1)\n",
    "    y_predict = model.predict([xx])\n",
    "\n",
    "    if y_predict[0] == 0:\n",
    "      setosa += 1 \n",
    "    elif y_predict[0] == 1:\n",
    "      versicolor += 1\n",
    "    elif y_predict[0] == 2:\n",
    "      virginica +=  1\n",
    "  score = np.asarray([setosa, versicolor, virginica])/simulatin_counts * 100\n",
    "  scores[size] = score  \n",
    " # print(\"size={} setosa {:.2f}%, versicolor {:.2f}%, virginica {:.2f}%\".format(size,score[0], score[1], score[2]))"
   ]
  },
  {
   "cell_type": "code",
   "execution_count": 15,
   "metadata": {
    "colab": {
     "base_uri": "https://localhost:8080/"
    },
    "id": "6S2Aa85Oj3Wu",
    "outputId": "75a74878-f03f-417e-9d37-5eb0b7b98524"
   },
   "outputs": [
    {
     "data": {
      "image/png": "[encoded data removed]",
      "text/plain": [
       "<Figure size 720x720 with 1 Axes>"
      ]
     },
     "metadata": {
      "needs_background": "light"
     },
     "output_type": "display_data"
    }
   ],
   "source": [
    "plt.figure(figsize=(10,10))\n",
    "plt.plot(scores[0], label='setosa')\n",
    "plt.plot(scores[1], label='versicolor')\n",
    "plt.plot(scores[2], label='virginica')\n",
    "plt.grid()\n",
    "plt.legend()\n",
    "plt.show()"
   ]
  }
 ],
 "metadata": {
  "colab": {
   "collapsed_sections": [],
   "name": "2021.05.30_10.10.ipynb",
   "provenance": []
  },
  "kernelspec": {
   "display_name": "Python 3 (ipykernel)",
   "language": "python",
   "name": "python3"
  },
  "language_info": {
   "codemirror_mode": {
    "name": "ipython",
    "version": 3
   },
   "file_extension": ".py",
   "mimetype": "text/x-python",
   "name": "python",
   "nbconvert_exporter": "python",
   "pygments_lexer": "ipython3",
   "version": "3.8.12"
  }
 },
 "nbformat": 4,
 "nbformat_minor": 1
}
